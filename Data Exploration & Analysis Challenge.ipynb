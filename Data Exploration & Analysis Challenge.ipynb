{
 "cells": [
  {
   "cell_type": "markdown",
   "metadata": {},
   "source": [
    "### Problem Statement. R Studio"
   ]
  },
  {
   "cell_type": "markdown",
   "metadata": {},
   "source": [
    "For the data, assume that the new client first became available to a subset of users on 11 October 2017 (experiment start date). \n",
    "- Column ​first_day​ shows the first day that a user played a match after the experiment start date.\n",
    "\n",
    "- column ​latest_day​ when they were last seen playing.\n",
    "\n",
    "- column ​lifespan​ the difference between the two dates.\n",
    "\n",
    "Your product manager wants to understand if the new client has increased the number of people joining hubs. They therefore asked you whether you could test if the following hypothesis is true:\n",
    "\n",
    "H0: The ​proportion ​of users who used the new client and joined at least one hub is larger than the proportion of users who are using the old web client and joined at least one hub.\n",
    "Conduct a test of hypothesis, and state any assumptions you have made. What would your feedback be to the product team?"
   ]
  },
  {
   "cell_type": "markdown",
   "metadata": {},
   "source": [
    "##### A Quick Exploratory Data Analysis (EDA)"
   ]
  },
  {
   "cell_type": "code",
   "execution_count": 5,
   "metadata": {},
   "outputs": [
    {
     "data": {
      "text/html": [
       "<table>\n",
       "<thead><tr><th scope=col>user_id</th><th scope=col>first_day</th><th scope=col>latest_day</th><th scope=col>lifespan</th><th scope=col>client</th><th scope=col>membership_type</th><th scope=col>joined_at_least_1_hub</th></tr></thead>\n",
       "<tbody>\n",
       "\t<tr><td>594132bd-7b3e-4ec4-b752-06ee1711d297</td><td>11/10/2017                          </td><td>11/10/2017                          </td><td>0                                   </td><td>new_client                          </td><td>free                                </td><td>NA                                  </td></tr>\n",
       "\t<tr><td>533f08c8-e1ee-4925-96d9-9aeeba55b5ba</td><td>11/10/2017                          </td><td>11/10/2017                          </td><td>0                                   </td><td>new_client                          </td><td>free                                </td><td>NA                                  </td></tr>\n",
       "\t<tr><td>0840ad75-5337-4193-8cf8-0348b126e697</td><td>11/10/2017                          </td><td>11/10/2017                          </td><td>0                                   </td><td>web_client                          </td><td>free                                </td><td>NA                                  </td></tr>\n",
       "\t<tr><td>6e51c17f-4a81-4bb9-9f35-f0e2839da86e</td><td>11/10/2017                          </td><td>11/10/2017                          </td><td>0                                   </td><td>new_client                          </td><td>free                                </td><td> 1                                  </td></tr>\n",
       "\t<tr><td>f0dde747-b394-4a75-a74f-5e4adec18a28</td><td>11/10/2017                          </td><td>11/10/2017                          </td><td>0                                   </td><td>new_client                          </td><td>free                                </td><td>NA                                  </td></tr>\n",
       "\t<tr><td>b068b2a7-0e48-4afc-9712-67057670a41e</td><td>11/10/2017                          </td><td>11/10/2017                          </td><td>0                                   </td><td>new_client                          </td><td>free                                </td><td>NA                                  </td></tr>\n",
       "</tbody>\n",
       "</table>\n"
      ],
      "text/latex": [
       "\\begin{tabular}{r|lllllll}\n",
       " user\\_id & first\\_day & latest\\_day & lifespan & client & membership\\_type & joined\\_at\\_least\\_1\\_hub\\\\\n",
       "\\hline\n",
       "\t 594132bd-7b3e-4ec4-b752-06ee1711d297 & 11/10/2017                           & 11/10/2017                           & 0                                    & new\\_client                         & free                                 & NA                                  \\\\\n",
       "\t 533f08c8-e1ee-4925-96d9-9aeeba55b5ba & 11/10/2017                           & 11/10/2017                           & 0                                    & new\\_client                         & free                                 & NA                                  \\\\\n",
       "\t 0840ad75-5337-4193-8cf8-0348b126e697 & 11/10/2017                           & 11/10/2017                           & 0                                    & web\\_client                         & free                                 & NA                                  \\\\\n",
       "\t 6e51c17f-4a81-4bb9-9f35-f0e2839da86e & 11/10/2017                           & 11/10/2017                           & 0                                    & new\\_client                         & free                                 &  1                                  \\\\\n",
       "\t f0dde747-b394-4a75-a74f-5e4adec18a28 & 11/10/2017                           & 11/10/2017                           & 0                                    & new\\_client                         & free                                 & NA                                  \\\\\n",
       "\t b068b2a7-0e48-4afc-9712-67057670a41e & 11/10/2017                           & 11/10/2017                           & 0                                    & new\\_client                         & free                                 & NA                                  \\\\\n",
       "\\end{tabular}\n"
      ],
      "text/markdown": [
       "\n",
       "| user_id | first_day | latest_day | lifespan | client | membership_type | joined_at_least_1_hub |\n",
       "|---|---|---|---|---|---|---|\n",
       "| 594132bd-7b3e-4ec4-b752-06ee1711d297 | 11/10/2017                           | 11/10/2017                           | 0                                    | new_client                           | free                                 | NA                                   |\n",
       "| 533f08c8-e1ee-4925-96d9-9aeeba55b5ba | 11/10/2017                           | 11/10/2017                           | 0                                    | new_client                           | free                                 | NA                                   |\n",
       "| 0840ad75-5337-4193-8cf8-0348b126e697 | 11/10/2017                           | 11/10/2017                           | 0                                    | web_client                           | free                                 | NA                                   |\n",
       "| 6e51c17f-4a81-4bb9-9f35-f0e2839da86e | 11/10/2017                           | 11/10/2017                           | 0                                    | new_client                           | free                                 |  1                                   |\n",
       "| f0dde747-b394-4a75-a74f-5e4adec18a28 | 11/10/2017                           | 11/10/2017                           | 0                                    | new_client                           | free                                 | NA                                   |\n",
       "| b068b2a7-0e48-4afc-9712-67057670a41e | 11/10/2017                           | 11/10/2017                           | 0                                    | new_client                           | free                                 | NA                                   |\n",
       "\n"
      ],
      "text/plain": [
       "  user_id                              first_day  latest_day lifespan\n",
       "1 594132bd-7b3e-4ec4-b752-06ee1711d297 11/10/2017 11/10/2017 0       \n",
       "2 533f08c8-e1ee-4925-96d9-9aeeba55b5ba 11/10/2017 11/10/2017 0       \n",
       "3 0840ad75-5337-4193-8cf8-0348b126e697 11/10/2017 11/10/2017 0       \n",
       "4 6e51c17f-4a81-4bb9-9f35-f0e2839da86e 11/10/2017 11/10/2017 0       \n",
       "5 f0dde747-b394-4a75-a74f-5e4adec18a28 11/10/2017 11/10/2017 0       \n",
       "6 b068b2a7-0e48-4afc-9712-67057670a41e 11/10/2017 11/10/2017 0       \n",
       "  client     membership_type joined_at_least_1_hub\n",
       "1 new_client free            NA                   \n",
       "2 new_client free            NA                   \n",
       "3 web_client free            NA                   \n",
       "4 new_client free             1                   \n",
       "5 new_client free            NA                   \n",
       "6 new_client free            NA                   "
      ]
     },
     "metadata": {},
     "output_type": "display_data"
    },
    {
     "name": "stdout",
     "output_type": "stream",
     "text": [
      "'data.frame':\t3305 obs. of  7 variables:\n",
      " $ user_id              : Factor w/ 3305 levels \"001b07b6-734f-4af4-9e05-05cabf82da40\",..: 1132 1073 109 1414 3130 2263 2560 2764 737 1883 ...\n",
      " $ first_day            : Factor w/ 92 levels \"01/01/2018\",\"01/11/2017\",..: 32 32 32 32 32 32 32 32 32 32 ...\n",
      " $ latest_day           : Factor w/ 92 levels \"01/01/2018\",\"01/11/2017\",..: 32 32 32 32 32 32 32 32 32 32 ...\n",
      " $ lifespan             : int  0 0 0 0 0 0 0 0 0 0 ...\n",
      " $ client               : Factor w/ 2 levels \"new_client\",\"web_client\": 1 1 2 1 1 1 1 1 2 1 ...\n",
      " $ membership_type      : Factor w/ 3 levels \"free\",\"premium\",..: 1 1 1 1 1 1 1 1 1 1 ...\n",
      " $ joined_at_least_1_hub: int  NA NA NA 1 NA NA NA 1 NA NA ...\n"
     ]
    }
   ],
   "source": [
    "data = read.csv('client__1_.csv')\n",
    "head(data)\n",
    "str(data)"
   ]
  },
  {
   "cell_type": "code",
   "execution_count": 9,
   "metadata": {},
   "outputs": [
    {
     "data": {
      "text/plain": [
       "            \n",
       "                1\n",
       "  new_client 1557\n",
       "  web_client 1253"
      ]
     },
     "metadata": {},
     "output_type": "display_data"
    }
   ],
   "source": [
    "table(data$client,data$joined_at_least_1_hub)"
   ]
  },
  {
   "cell_type": "code",
   "execution_count": 37,
   "metadata": {},
   "outputs": [
    {
     "data": {
      "text/plain": [
       "\n",
       "new_client web_client \n",
       "      1809       1496 "
      ]
     },
     "metadata": {},
     "output_type": "display_data"
    }
   ],
   "source": [
    "table(data$client)"
   ]
  },
  {
   "cell_type": "code",
   "execution_count": 54,
   "metadata": {},
   "outputs": [
    {
     "data": {
      "text/html": [
       "<strong>new_client:</strong> 0.861"
      ],
      "text/latex": [
       "\\textbf{new\\textbackslash{}\\_client:} 0.861"
      ],
      "text/markdown": [
       "**new_client:** 0.861"
      ],
      "text/plain": [
       "new_client \n",
       "     0.861 "
      ]
     },
     "metadata": {},
     "output_type": "display_data"
    },
    {
     "data": {
      "text/html": [
       "<strong>web_client:</strong> 0.838"
      ],
      "text/latex": [
       "\\textbf{web\\textbackslash{}\\_client:} 0.838"
      ],
      "text/markdown": [
       "**web_client:** 0.838"
      ],
      "text/plain": [
       "web_client \n",
       "     0.838 "
      ]
     },
     "metadata": {},
     "output_type": "display_data"
    }
   ],
   "source": [
    "# Group A = new client  n = 1809, 1557 at_least_1_hub\n",
    "pA=round(table(data$client,data$joined_at_least_1_hub)[1]/table(data$client)[1],3)\n",
    "pA\n",
    "# Group B = old web  n = 1496, 1253 at_least_1_hub\n",
    "pB=round(table(data$client,data$joined_at_least_1_hub)[2]/table(data$client)[2],3)\n",
    "pB"
   ]
  },
  {
   "cell_type": "markdown",
   "metadata": {},
   "source": [
    "H0 = \n",
    "The ​proportion ​of users who used the new client and joined at least one hub is larger than the proportion of users who are using the old web client and joined at least one hub\n",
    "\n",
    "H0:pA≥pB\n",
    "\n",
    "\n"
   ]
  },
  {
   "cell_type": "markdown",
   "metadata": {},
   "source": [
    "#### Statistical Test\n",
    "The statistical test I am going to use is the two-proportions z-test"
   ]
  },
  {
   "cell_type": "code",
   "execution_count": 61,
   "metadata": {},
   "outputs": [
    {
     "data": {
      "text/plain": [
       "\n",
       "\t2-sample test for equality of proportions with continuity correction\n",
       "\n",
       "data:  c(1557, 1253) out of c(1809, 1496)\n",
       "X-squared = 3.2608, df = 1, p-value = 0.03548\n",
       "alternative hypothesis: greater\n",
       "95 percent confidence interval:\n",
       " 0.001894646 1.000000000\n",
       "sample estimates:\n",
       "   prop 1    prop 2 \n",
       "0.8606965 0.8375668 \n"
      ]
     },
     "metadata": {},
     "output_type": "display_data"
    }
   ],
   "source": [
    "# prop.test(x, n, p = NULL, alternative = \"two.sided/greater/less\",\n",
    "#           correct = TRUE)\n",
    "res <- prop.test(x = c(1557, 1253), n = c(1809, 1496),alternative = 'greater')\n",
    "# Printing the results\n",
    "res "
   ]
  },
  {
   "cell_type": "markdown",
   "metadata": {},
   "source": [
    "The p-value of the test is < 0.05 significant level.I conclude that H0 should be rejected and thus the proportion of users that converted on the new client is indeed greater."
   ]
  }
 ],
 "metadata": {
  "kernelspec": {
   "display_name": "R",
   "language": "R",
   "name": "ir"
  },
  "language_info": {
   "codemirror_mode": "r",
   "file_extension": ".r",
   "mimetype": "text/x-r-source",
   "name": "R",
   "pygments_lexer": "r",
   "version": "3.6.1"
  }
 },
 "nbformat": 4,
 "nbformat_minor": 4
}
